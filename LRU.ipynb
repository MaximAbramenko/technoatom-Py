{
 "cells": [
  {
   "cell_type": "code",
   "execution_count": 2,
   "metadata": {},
   "outputs": [
    {
     "name": "stdout",
     "output_type": "stream",
     "text": [
      "James\n",
      "''\n"
     ]
    }
   ],
   "source": [
    "from collections import OrderedDict\n",
    "\n",
    "class ICache:\n",
    "    def __init__(self, capacity: int=10) -> None:\n",
    "        self.cache = OrderedDict()\n",
    "        self.size = capacity\n",
    "        \n",
    "    def get(self, key: str) -> str:\n",
    "        if key not in self.cache:\n",
    "            return \"\\''\"\n",
    "        self.cache.move_to_end(key)\n",
    "        return self.cache[key]\n",
    "\n",
    "    def setup(self, key: str, value: str) -> None:\n",
    "        if key in self.cache:\n",
    "            self.cache[key] = value\n",
    "            self.cache.move_to_end(key)\n",
    "        elif len(self.cache) < self.size:\n",
    "            self.cache[key] = value\n",
    "            self.cache.move_to_end(key)\n",
    "        else:\n",
    "            self.cache.popitem(last=True)\n",
    "            self.cache[key] = value\n",
    "            self.cache.move_to_end(key)\n",
    "\n",
    "    def delete(self, key: str) -> None:\n",
    "        if key not in self.cache:\n",
    "            raise KeyError('нет такого ключа для удаления')\n",
    "        self.cache.pop(key)\n",
    "        \n",
    "        \n",
    "def main():\n",
    "    cache = ICache(5)\n",
    "    cache.setup('Jesse', 'Pinkman')\n",
    "    cache.setup('Walter', 'White')\n",
    "    cache.setup('Jesse', 'James')\n",
    "    print(cache.get('Jesse')) # вернёт 'James'\n",
    "    cache.delete('Walter')\n",
    "    print(cache.get('Walter')) # вернёт ''\n",
    "    \n",
    "    \n",
    "main()"
   ]
  },
  {
   "cell_type": "code",
   "execution_count": null,
   "metadata": {},
   "outputs": [],
   "source": []
  }
 ],
 "metadata": {
  "kernelspec": {
   "display_name": "Python 3",
   "language": "python",
   "name": "python3"
  },
  "language_info": {
   "codemirror_mode": {
    "name": "ipython",
    "version": 3
   },
   "file_extension": ".py",
   "mimetype": "text/x-python",
   "name": "python",
   "nbconvert_exporter": "python",
   "pygments_lexer": "ipython3",
   "version": "3.7.1"
  }
 },
 "nbformat": 4,
 "nbformat_minor": 2
}
