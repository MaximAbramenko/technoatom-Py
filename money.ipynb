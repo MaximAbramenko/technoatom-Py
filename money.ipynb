{
 "cells": [
  {
   "cell_type": "code",
   "execution_count": 1,
   "metadata": {},
   "outputs": [
    {
     "name": "stdout",
     "output_type": "stream",
     "text": [
      "75 None\n",
      "Money(75, None)\n",
      "Money(44, USD)\n",
      "119 USD\n",
      "169.28708133971293 GBP\n"
     ]
    }
   ],
   "source": [
    "class Money():\n",
    "    exchange_rate ={'RUB' :1 ,'USD' :73.75 ,'EUR' :80.73 ,'GBP' :91.96 ,'BYN' : 29.85}\n",
    "    \n",
    "    def __init__(self ,value ,currency=None):\n",
    "        self.value = value\n",
    "        self.currency = currency\n",
    "    \n",
    "    def convert(self, other):\n",
    "        return other.value * Money.exchange_rate[other.currency] / Money.exchange_rate[self.currency]\n",
    "    \n",
    "    def __add__(self, other):\n",
    "        if isinstance(other, Money):\n",
    "            if self.currency==other.currency:\n",
    "                return Money(self.value + other.value ,self.currency)\n",
    "            else:\n",
    "                if self.currency not in Money.exchange_rate:\n",
    "                    raise ValueError('Валюта первого не подходит')\n",
    "                    return\n",
    "                elif other.currency is None:\n",
    "                    return Money(self.value + other.value ,self.currency)\n",
    "                elif other.currency not in Money.exchange_rate:\n",
    "                    raise ValueError('Определите подходящую валюту второго')\n",
    "                    return\n",
    "                else:\n",
    "                    copy_conv = Money.convert(self, other)\n",
    "                return Money(self.value +copy_conv ,self.currency)\n",
    "        else:\n",
    "            raise TypeError('Попытка прибавить не деньги')\n",
    "   \n",
    "    def __str__(self):\n",
    "        return str(self.value) + ' ' + str(self.currency)\n",
    "\n",
    "    def __repr__(self):\n",
    "        if self.currency is None:\n",
    "            copy = 'единиц'\n",
    "        else:\n",
    "            copy = self.currency\n",
    "        return 'Money({}, {})'.format(self.value, self.currency)\n",
    "\n",
    "\n",
    "def maink():\n",
    "    k= Money(75)\n",
    "    print(str(k))\n",
    "    print(repr(k))\n",
    "    a = Money(44, 'USD')\n",
    "    print(repr(a))\n",
    "    print(a + k)\n",
    "    #print(k + a)\n",
    "    g = Money(134, 'GBP')\n",
    "    print(g + a)\n",
    "maink()"
   ]
  },
  {
   "cell_type": "code",
   "execution_count": null,
   "metadata": {},
   "outputs": [],
   "source": []
  }
 ],
 "metadata": {
  "kernelspec": {
   "display_name": "Python 3",
   "language": "python",
   "name": "python3"
  },
  "language_info": {
   "codemirror_mode": {
    "name": "ipython",
    "version": 3
   },
   "file_extension": ".py",
   "mimetype": "text/x-python",
   "name": "python",
   "nbconvert_exporter": "python",
   "pygments_lexer": "ipython3",
   "version": "3.7.1"
  }
 },
 "nbformat": 4,
 "nbformat_minor": 2
}
