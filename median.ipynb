{
 "cells": [
  {
   "cell_type": "code",
   "execution_count": 1,
   "metadata": {},
   "outputs": [
    {
     "name": "stdout",
     "output_type": "stream",
     "text": [
      "3.3899999999999997\n"
     ]
    }
   ],
   "source": [
    "class MedianFinder:\n",
    "\n",
    "    def __init__(self):\n",
    "        \"\"\"\n",
    "        initialize your data structure here.\n",
    "        \"\"\"\n",
    "        self.structure = []\n",
    "\n",
    "    def addNum(self, num: int) -> None:\n",
    "        self.structure.append(num)\n",
    "\n",
    "    def findMedian(self) -> float:\n",
    "        size = len(self.structure)\n",
    "        if size == 0:\n",
    "            raise IndexError('потока нет')\n",
    "        self.structure.sort()\n",
    "        if size % 2 == 0:\n",
    "            return (self.structure[size//2]+self.structure[size//2-1]) / 2\n",
    "        else:\n",
    "            return self.structure[size//2]\n",
    "        \n",
    "\n",
    "# obj = MedianFinder()\n",
    "# obj.addNum(num)\n",
    "# param_2 = obj.findMedian()\n",
    "def main():\n",
    "    obj = MedianFinder()\n",
    "    obj.addNum(7)\n",
    "    obj.addNum(1)\n",
    "    obj.addNum(3.78)\n",
    "    obj.addNum(8)\n",
    "    obj.addNum(2)\n",
    "    obj.addNum(3)\n",
    "    param_2 = obj.findMedian()\n",
    "    print(param_2)\n",
    "\n",
    "def maink():\n",
    "    obj2 = MedianFinder()\n",
    "    print(obj2.findMedian())\n",
    "main()\n",
    "#maink()"
   ]
  },
  {
   "cell_type": "code",
   "execution_count": null,
   "metadata": {},
   "outputs": [],
   "source": []
  }
 ],
 "metadata": {
  "kernelspec": {
   "display_name": "Python 3",
   "language": "python",
   "name": "python3"
  },
  "language_info": {
   "codemirror_mode": {
    "name": "ipython",
    "version": 3
   },
   "file_extension": ".py",
   "mimetype": "text/x-python",
   "name": "python",
   "nbconvert_exporter": "python",
   "pygments_lexer": "ipython3",
   "version": "3.7.1"
  }
 },
 "nbformat": 4,
 "nbformat_minor": 2
}
