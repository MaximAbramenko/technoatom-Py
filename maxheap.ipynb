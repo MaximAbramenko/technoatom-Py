{
 "cells": [
  {
   "cell_type": "code",
   "execution_count": 3,
   "metadata": {},
   "outputs": [
    {
     "name": "stdout",
     "output_type": "stream",
     "text": [
      "[9, 5, 3, 1, 2]\n",
      "9\n",
      "[5, 2, 3, 1]\n",
      "[15, 5, 3, 1, 2]\n",
      "15\n",
      "[5, 2, 3, 1]\n",
      "5\n",
      "3\n",
      "[2, 1]\n"
     ]
    }
   ],
   "source": [
    "class MaxHeap:\n",
    "    def __init__(self, heapl = []) -> None:\n",
    "        self.heapl = heapl\n",
    "\n",
    "    def push(self, val: int) -> None:\n",
    "        self.heapl.append(val)\n",
    "        i = len(self.heapl)-1\n",
    "        while i >= 1 and self.heapl[i] > self.heapl[(i-1)//2]:\n",
    "            copy = self.heapl[(i-1)//2]\n",
    "            self.heapl[(i-1)//2] = self.heapl[i]\n",
    "            self.heapl[i] = copy\n",
    "            i = (i-1)//2\n",
    "        \n",
    "    def pop(self) -> int:\n",
    "        n = len(self.heapl)\n",
    "        copy = self.heapl[0]\n",
    "        self.heapl[0] = self.heapl[n -1]\n",
    "        self.heapl[n -1] = copy\n",
    "        max_ = self.heapl[n -1]\n",
    "        self.heapl.pop()\n",
    "        index = 0\n",
    "        while (2 * index + 1 < n-1):\n",
    "            j = 2 * index + 1\n",
    "            if (j + 1 < n - 1 and self.heapl[j] < self.heapl[j+1]):\n",
    "                j += 1\n",
    "            if (self.heapl[index] >= self.heapl[j]):\n",
    "                break\n",
    "            cash = self.heapl[index]\n",
    "            self.heapl[index] = self.heapl[j]\n",
    "            self.heapl[j] = cash\n",
    "            key = j\n",
    "        return max_\n",
    "\n",
    "    ''''def __heapify(self, val):\n",
    "        i = len(self.heapl)\n",
    "        while i > 1 and self.heapl[i] > self.heapl[(i-1)//2]:\n",
    "            i = i //2\n",
    "            copy = self.heapl[(i-1)//2]\n",
    "            self.heapl[(i-1)//2] = self.heapl[i]\n",
    "            self.heapl[i] = copy'''\n",
    "        \n",
    "    def heapify(self, iterable) -> None:\n",
    "        self.heapl = []\n",
    "        for k in iterable:\n",
    "            self.push(k)\n",
    "        \n",
    "        \n",
    "        \n",
    "def main():\n",
    "    heap = MaxHeap()\n",
    "    a = [1, 3, 5, 9 ,2]\n",
    "    heap.heapify(a)\n",
    "    print(heap.heapl)\n",
    "    print(heap.pop())\n",
    "    print(heap.heapl)\n",
    "    heap.push(15)\n",
    "    print(heap.heapl)\n",
    "    print(heap.pop())\n",
    "    print(heap.heapl)\n",
    "    print(heap.pop())\n",
    "    print(heap.pop())\n",
    "    print(heap.heapl)\n",
    "    \n",
    "main()"
   ]
  },
  {
   "cell_type": "code",
   "execution_count": null,
   "metadata": {},
   "outputs": [],
   "source": []
  }
 ],
 "metadata": {
  "kernelspec": {
   "display_name": "Python 3",
   "language": "python",
   "name": "python3"
  },
  "language_info": {
   "codemirror_mode": {
    "name": "ipython",
    "version": 3
   },
   "file_extension": ".py",
   "mimetype": "text/x-python",
   "name": "python",
   "nbconvert_exporter": "python",
   "pygments_lexer": "ipython3",
   "version": "3.7.1"
  }
 },
 "nbformat": 4,
 "nbformat_minor": 2
}
